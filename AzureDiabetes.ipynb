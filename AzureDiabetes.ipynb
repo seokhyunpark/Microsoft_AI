{
 "cells": [
  {
   "cell_type": "code",
   "execution_count": 2,
   "metadata": {
    "gather": {
     "logged": 1675149338426
    }
   },
   "outputs": [
    {
     "name": "stdout",
     "output_type": "stream",
     "text": [
      "Workspace name: labuser17ml\n",
      "Azure region koreacentral\n",
      "Subscription ID: f5bc93f2-df0a-4b1a-ab9e-2b0203fc7d26\n",
      "Resource Group: rg17\n"
     ]
    }
   ],
   "source": [
    "from azureml.core import Workspace\n",
    "ws = Workspace.from_config()\n",
    "print('Workspace name: ' + ws.name,\n",
    "        'Azure region ' + ws.location,\n",
    "        'Subscription ID: ' + ws.subscription_id,\n",
    "        'Resource Group: ' + ws.resource_group,\n",
    "        sep='\\n'\n",
    ")"
   ]
  },
  {
   "cell_type": "code",
   "execution_count": 8,
   "metadata": {
    "gather": {
     "logged": 1675150952255
    },
    "jupyter": {
     "outputs_hidden": false,
     "source_hidden": false
    },
    "nteract": {
     "transient": {
      "deleting": false
     }
    }
   },
   "outputs": [],
   "source": [
    "from azureml.core import Experiment\n",
    "experiment = Experiment(workspace=ws, name='diabetes_experiment')"
   ]
  },
  {
   "cell_type": "code",
   "execution_count": 9,
   "metadata": {
    "gather": {
     "logged": 1675150960558
    },
    "jupyter": {
     "outputs_hidden": false,
     "source_hidden": false
    },
    "nteract": {
     "transient": {
      "deleting": false
     }
    }
   },
   "outputs": [],
   "source": [
    "from azureml.opendatasets import Diabetes\n",
    "from sklearn.model_selection import train_test_split\n",
    "\n",
    "x_df = Diabetes.get_tabular_dataset().to_pandas_dataframe().dropna()\n",
    "y_df = x_df.pop('Y')\n",
    "\n",
    "X_train, X_test, y_train, y_test = train_test_split(x_df, y_df, test_size=0.2, random_state=6)"
   ]
  },
  {
   "cell_type": "code",
   "execution_count": 10,
   "metadata": {
    "gather": {
     "logged": 1675151031947
    },
    "jupyter": {
     "outputs_hidden": false,
     "source_hidden": false
    },
    "nteract": {
     "transient": {
      "deleting": false
     }
    }
   },
   "outputs": [
    {
     "name": "stdout",
     "output_type": "stream",
     "text": [
      "0.1 exp completed\n",
      "0.2 exp completed\n",
      "0.3 exp completed\n",
      "0.4 exp completed\n",
      "0.5 exp completed\n",
      "0.6 exp completed\n",
      "0.7 exp completed\n",
      "0.8 exp completed\n",
      "0.9 exp completed\n",
      "1 exp completed\n"
     ]
    }
   ],
   "source": [
    "from sklearn.linear_model import Ridge\n",
    "from sklearn.metrics import mean_squared_error\n",
    "from sklearn.externals import joblib\n",
    "import math\n",
    "\n",
    "alphas = [0.1, 0.2, 0.3, 0.4, 0.5, 0.6, 0.7, 0.8, 0.9, 1]\n",
    "\n",
    "for alpha in alphas:\n",
    "    run = experiment.start_logging()\n",
    "    run.log('alpha_value', alpha)\n",
    "\n",
    "    model = Ridge(alpha=alpha)\n",
    "    model.fit(X=X_train, y=y_train)\n",
    "\n",
    "    y_pred = model.predict(X=X_test)\n",
    "    rmse = math.sqrt(mean_squared_error(y_true=y_test, y_pred=y_pred))\n",
    "    run.log('rmse', rmse)\n",
    "\n",
    "    model_name = 'model_alpha_' + str(alpha) + '.pkl'\n",
    "    filename = 'outputs/' + model_name\n",
    "\n",
    "    joblib.dump(value=model, filename=filename)\n",
    "    run.upload_file(name=model_name, path_or_stream=filename)\n",
    "    run.complete()\n",
    "\n",
    "    print(f'{alpha} exp completed')"
   ]
  },
  {
   "cell_type": "code",
   "execution_count": 11,
   "metadata": {
    "gather": {
     "logged": 1675151157369
    },
    "jupyter": {
     "outputs_hidden": false,
     "source_hidden": false
    },
    "nteract": {
     "transient": {
      "deleting": false
     }
    }
   },
   "outputs": [
    {
     "data": {
      "text/html": [
       "<table style=\"width:100%\"><tr><th>Name</th><th>Workspace</th><th>Report Page</th><th>Docs Page</th></tr><tr><td>diabetes_experiment</td><td>labuser17ml</td><td><a href=\"https://ml.azure.com/experiments/id/a555abae-1869-48c0-a3da-e4bf64629742?wsid=/subscriptions/f5bc93f2-df0a-4b1a-ab9e-2b0203fc7d26/resourcegroups/rg17/workspaces/labuser17ml&amp;tid=c3b5a8fe-e46d-4078-9bd0-5eb0bb801edb\" target=\"_blank\" rel=\"noopener\">Link to Azure Machine Learning studio</a></td><td><a href=\"https://docs.microsoft.com/en-us/python/api/azureml-core/azureml.core.experiment.Experiment?view=azure-ml-py\" target=\"_blank\" rel=\"noopener\">Link to Documentation</a></td></tr></table>"
      ],
      "text/plain": [
       "Experiment(Name: diabetes_experiment,\n",
       "Workspace: labuser17ml)"
      ]
     },
     "execution_count": 11,
     "metadata": {},
     "output_type": "execute_result"
    }
   ],
   "source": [
    "experiment"
   ]
  },
  {
   "cell_type": "code",
   "execution_count": 12,
   "metadata": {
    "gather": {
     "logged": 1675151679200
    },
    "jupyter": {
     "outputs_hidden": false,
     "source_hidden": false
    },
    "nteract": {
     "transient": {
      "deleting": false
     }
    }
   },
   "outputs": [
    {
     "name": "stdout",
     "output_type": "stream",
     "text": [
      "Best run_id: 1486dbf3-1087-4a6a-80aa-cc5128ff418c\n",
      "Best run_rsme: 54.205664405276664\n"
     ]
    }
   ],
   "source": [
    "minimum_rmse_runid = None\n",
    "minimum_rmse = None\n",
    "\n",
    "for run in experiment.get_runs():\n",
    "    run_metrics = run.get_metrics()\n",
    "    run_details = run.get_details()\n",
    "\n",
    "    run_rmse = run_metrics['rmse']\n",
    "    run_id = run_details['runId']\n",
    "\n",
    "    if minimum_rmse is None:\n",
    "        minimum_rmse = run_rmse\n",
    "        minimum_rmse_runid = run_id\n",
    "    else:\n",
    "        if run_rmse < minimum_rmse:\n",
    "            minimum_rmse = run_rmse\n",
    "            minimum_rmse_runid = run_id\n",
    "\n",
    "print(\"Best run_id:\", minimum_rmse_runid)\n",
    "print(\"Best run_rsme:\", str(minimum_rmse))"
   ]
  },
  {
   "cell_type": "code",
   "execution_count": 14,
   "metadata": {
    "gather": {
     "logged": 1675151842731
    },
    "jupyter": {
     "outputs_hidden": false,
     "source_hidden": false
    },
    "nteract": {
     "transient": {
      "deleting": false
     }
    }
   },
   "outputs": [
    {
     "name": "stdout",
     "output_type": "stream",
     "text": [
      "['model_alpha_1.pkl', 'outputs/model_alpha_0.1.pkl', 'outputs/model_alpha_0.2.pkl', 'outputs/model_alpha_0.3.pkl', 'outputs/model_alpha_0.4.pkl', 'outputs/model_alpha_0.5.pkl', 'outputs/model_alpha_0.6.pkl', 'outputs/model_alpha_0.7.pkl', 'outputs/model_alpha_0.8.pkl', 'outputs/model_alpha_0.9.pkl', 'outputs/model_alpha_1.pkl']\n"
     ]
    }
   ],
   "source": [
    "from azureml.core import Run\n",
    "best_run = Run(experiment=experiment, run_id=minimum_rmse_runid)\n",
    "print(best_run.get_file_names())"
   ]
  },
  {
   "cell_type": "code",
   "execution_count": 15,
   "metadata": {
    "gather": {
     "logged": 1675151978943
    },
    "jupyter": {
     "outputs_hidden": false,
     "source_hidden": false
    },
    "nteract": {
     "transient": {
      "deleting": false
     }
    }
   },
   "outputs": [],
   "source": [
    "best_run.download_file(name=str(best_run.get_file_names()[0]))"
   ]
  },
  {
   "cell_type": "code",
   "execution_count": 17,
   "metadata": {
    "gather": {
     "logged": 1675152647382
    },
    "jupyter": {
     "outputs_hidden": false,
     "source_hidden": false
    },
    "nteract": {
     "transient": {
      "deleting": false
     }
    }
   },
   "outputs": [
    {
     "name": "stdout",
     "output_type": "stream",
     "text": [
      "Uploading an estimated of 2 files\n",
      "Uploading ./features.csv\n",
      "Uploaded ./features.csv, 1 files out of an estimated total of 2\n",
      "Uploading ./labels.csv\n",
      "Uploaded ./labels.csv, 2 files out of an estimated total of 2\n",
      "Uploaded 2 files\n"
     ]
    },
    {
     "data": {
      "text/plain": [
       "$AZUREML_DATAREFERENCE_5b475ee528794671928d8cf8349e5ca6"
      ]
     },
     "execution_count": 17,
     "metadata": {},
     "output_type": "execute_result"
    }
   ],
   "source": [
    "import numpy as np\n",
    "from azureml.core import Dataset\n",
    "\n",
    "np.savetxt('features.csv', X_train, delimiter=',')\n",
    "np.savetxt('labels.csv', y_train, delimiter=',')\n",
    "\n",
    "datastore = ws.get_default_datastore()\n",
    "datastore.upload_files(\n",
    "    files=['./features.csv', './labels.csv'],\n",
    "    target_path='diabetes-experiment/',\n",
    "    overwrite=True\n",
    ")"
   ]
  },
  {
   "cell_type": "code",
   "execution_count": null,
   "metadata": {
    "jupyter": {
     "outputs_hidden": false,
     "source_hidden": false
    },
    "nteract": {
     "transient": {
      "deleting": false
     }
    }
   },
   "outputs": [],
   "source": []
  }
 ],
 "metadata": {
  "kernel_info": {
   "name": "python38-azureml"
  },
  "kernelspec": {
   "display_name": "Python 3.8 - AzureML",
   "language": "python",
   "name": "python38-azureml"
  },
  "language_info": {
   "codemirror_mode": {
    "name": "ipython",
    "version": 3
   },
   "file_extension": ".py",
   "mimetype": "text/x-python",
   "name": "python",
   "nbconvert_exporter": "python",
   "pygments_lexer": "ipython3",
   "version": "3.8.5"
  },
  "microsoft": {
   "host": {
    "AzureML": {
     "notebookHasBeenCompleted": true
    }
   }
  },
  "nteract": {
   "version": "nteract-front-end@1.0.0"
  }
 },
 "nbformat": 4,
 "nbformat_minor": 2
}
